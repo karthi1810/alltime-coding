{
 "cells": [
  {
   "cell_type": "code",
   "execution_count": null,
   "metadata": {},
   "outputs": [],
   "source": [
    "import nltk\n",
    "from nltk.corpus import stopwords\n",
    "from nltk.tokenize import word_tokenize\n",
    "from nltk.tokenize import sent_tokenize\n",
    "from nltk.sentiment.vader import SentimentIntensityAnalyzer\n",
    "\n",
    "sent = SentimentIntensityAnalyzer()\n",
    "\n",
    "#Review I choose from a website for Television\n",
    "review1=\"worst tv I have ever bought not worth the money I am going to take it back\"\n",
    "review2=\"works really well as do all our Samsung products :)\"\n",
    "\n",
    "print(sent.polarity_scores(review1))\n",
    "print(sent.polarity_scores(review2))\n",
    "if (sent.polarity_scores(review1)['compound']<0):\n",
    "    print(\"First review is negative\")\n",
    "else:\n",
    "    print(\"First review is positive\")\n",
    "\n",
    "if (sent.polarity_scores(review2)['compound']<0):\n",
    "    print(\"Second review is negative\")\n",
    "else:\n",
    "    print(\"Second review is positive\")\n",
    "\n"
   ]
  },
  {
   "cell_type": "code",
   "execution_count": null,
   "metadata": {},
   "outputs": [],
   "source": [
    "# Tried to tokenize\n",
    "tokenized_review1=word_tokenize(review1)\n",
    "tokenized_review2=word_tokenize(review2)\n",
    "print(tokenized_review1)\n",
    "print(tokenized_review2)\n"
   ]
  },
  {
   "cell_type": "code",
   "execution_count": null,
   "metadata": {},
   "outputs": [],
   "source": [
    "# Removed Stopwords \n",
    "stop_words=stopwords.words('english')\n",
    "review1_withoutStopWord=[word for word in tokenized_review1 if word not in stop_words]\n",
    "review2_withoutStopWord2=[word for word in tokenized_review2 if word not in stop_words]\n",
    "print(review1_withoutStopWord)\n",
    "print(review2_withoutStopWord2)\n"
   ]
  },
  {
   "cell_type": "code",
   "execution_count": null,
   "metadata": {},
   "outputs": [],
   "source": [
    "#Score of words after removing stopwords\n",
    "polarity_review1 = [round(sent.polarity_scores(i)['compound'], 2) for i in review1_withoutStopWord]\n",
    "polarity_review2 = [round(sent.polarity_scores(i)['compound'], 2) for i in review2_withoutStopWord2]\n",
    "print(polarity_review1)\n",
    "print(polarity_review2)"
   ]
  }
 ],
 "metadata": {
  "kernelspec": {
   "display_name": "Python 3",
   "language": "python",
   "name": "python3"
  },
  "language_info": {
   "codemirror_mode": {
    "name": "ipython",
    "version": 3
   },
   "file_extension": ".py",
   "mimetype": "text/x-python",
   "name": "python",
   "nbconvert_exporter": "python",
   "pygments_lexer": "ipython3",
   "version": "3.8.2"
  },
  "orig_nbformat": 4,
  "vscode": {
   "interpreter": {
    "hash": "570feb405e2e27c949193ac68f46852414290d515b0ba6e5d90d076ed2284471"
   }
  }
 },
 "nbformat": 4,
 "nbformat_minor": 2
}
