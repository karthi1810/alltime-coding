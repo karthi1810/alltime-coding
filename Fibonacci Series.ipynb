{
 "cells": [
  {
   "cell_type": "code",
   "execution_count": null,
   "metadata": {},
   "outputs": [],
   "source": [
    "import time\n",
    "\n",
    "#Function definition for fib_withoutRecursion(fibonacci series without recursion)\n",
    "def fib_withoutRecursion(num):\n",
    "    prev=0\n",
    "    next=1\n",
    "    sum=0\n",
    "    count=0\n",
    "    print(\"Fibonacci series for :\",num)\n",
    "    while(count<num):\n",
    "        print(sum)\n",
    "        prev=next\n",
    "        next=sum\n",
    "        sum=prev+next\n",
    "        count=count+1\n",
    "    \n",
    "    \n",
    "        \n",
    "   "
   ]
  },
  {
   "cell_type": "code",
   "execution_count": null,
   "metadata": {},
   "outputs": [],
   "source": [
    "#Function definition for fib_recursion(fibonacci series with recursion)\n",
    "#fibArray=[]\n",
    "def fib_recursion(num):\n",
    "    if num in {0, 1}:\n",
    "        return num\n",
    "    return fib_recursion(num-1) + fib_recursion(num-2)\n",
    "    \n",
    "    \n",
    "    \n",
    "    "
   ]
  },
  {
   "cell_type": "code",
   "execution_count": null,
   "metadata": {},
   "outputs": [],
   "source": [
    "if __name__ == '__main__':\n",
    "    exec_time_without_recur = []\n",
    "    exec_time_with_recur = []\n",
    "    nums = list(range(1, 20, 2))\n",
    "    print(nums)\n",
    "    print(\"Print the last number in the Fibonacci Series-Recursion :\")\n",
    "    for num in nums:\n",
    "        start=time.time()\n",
    "        print(fib_recursion(num))\n",
    "        stop=time.time()\n",
    "        timetaken=stop-start    \n",
    "        exec_time_with_recur.append(timetaken)\n",
    "    #print(exec_time_with_recur)\n",
    "\n",
    "    print(\"Fibonacci Series-Iteration:\")\n",
    "    for num in nums:\n",
    "        start=time.time()\n",
    "        fib_withoutRecursion(num)\n",
    "        stop=time.time()\n",
    "        timetaken=stop-start    \n",
    "        exec_time_without_recur.append(timetaken)\n",
    "\n",
    "    #print(exec_time_without_recur)\n",
    "            "
   ]
  },
  {
   "cell_type": "code",
   "execution_count": null,
   "metadata": {},
   "outputs": [],
   "source": [
    "\n",
    "import matplotlib.pyplot as plt\n",
    "  \n",
    "# line 1 points\n",
    "x1 = nums\n",
    "y1 = exec_time_with_recur\n",
    "# plotting the line 1 points \n",
    "plt.plot(x1, y1, label = \"Recursion\")\n",
    "  \n",
    "# line 2 points\n",
    "x2 = nums\n",
    "y2 = exec_time_without_recur\n",
    "# plotting the line 2 points \n",
    "plt.plot(x2, y2, label = \"Loop method\")\n",
    "  \n",
    "# naming the x axis\n",
    "plt.xlabel('x - axis')\n",
    "# naming the y axis\n",
    "plt.ylabel('y - axis')\n",
    "# giving a title to my graph\n",
    "plt.title('Fibonacci (Recursion & Iterative)')\n",
    "  \n",
    "# show a legend on the plot\n",
    "plt.legend()\n",
    "  \n",
    "# function to show the plot\n",
    "plt.show()"
   ]
  },
  {
   "attachments": {},
   "cell_type": "markdown",
   "metadata": {},
   "source": [
    "Iterative function uses loop to get a set of statements executed until our condition is satisfied.Recursive function keeps on calling the same till it reached the base condition . So as the input grows in size, it will take more time to finish compared with iterative ones. "
   ]
  }
 ],
 "metadata": {
  "kernelspec": {
   "display_name": "Python 3",
   "language": "python",
   "name": "python3"
  },
  "language_info": {
   "codemirror_mode": {
    "name": "ipython",
    "version": 3
   },
   "file_extension": ".py",
   "mimetype": "text/x-python",
   "name": "python",
   "nbconvert_exporter": "python",
   "pygments_lexer": "ipython3",
   "version": "3.8.2"
  },
  "orig_nbformat": 4,
  "vscode": {
   "interpreter": {
    "hash": "570feb405e2e27c949193ac68f46852414290d515b0ba6e5d90d076ed2284471"
   }
  }
 },
 "nbformat": 4,
 "nbformat_minor": 2
}
